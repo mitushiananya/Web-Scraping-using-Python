{
 "metadata": {
  "language_info": {
   "codemirror_mode": {
    "name": "ipython",
    "version": 3
   },
   "file_extension": ".py",
   "mimetype": "text/x-python",
   "name": "python",
   "nbconvert_exporter": "python",
   "pygments_lexer": "ipython3",
   "version": "3.8.2-final"
  },
  "orig_nbformat": 2,
  "kernelspec": {
   "name": "python3",
   "display_name": "Python 3.8.2 64-bit",
   "metadata": {
    "interpreter": {
     "hash": "aee8b7b246df8f9039afb4144a1f6fd8d2ca17a180786b69acc140d282b71a49"
    }
   }
  }
 },
 "nbformat": 4,
 "nbformat_minor": 2,
 "cells": [
  {
   "cell_type": "code",
   "execution_count": 21,
   "metadata": {},
   "outputs": [],
   "source": [
    "import urllib\n",
    "import requests\n",
    "from bs4 import BeautifulSoup\n",
    "import pandas as pd"
   ]
  },
  {
   "cell_type": "code",
   "execution_count": 22,
   "metadata": {},
   "outputs": [],
   "source": [
    "# desktop user-agent\n",
    "USER_AGENT = \"Mozilla/5.0 (Macintosh; Intel Mac OS X 10.14; rv:65.0) Gecko/20100101 Firefox/65.0\"\n",
    "# mobile user-agent\n",
    "MOBILE_USER_AGENT = \"Mozilla/5.0 (Linux; Android 7.0; SM-G930V Build/NRD90M) AppleWebKit/537.36 (KHTML, like Gecko) Chrome/59.0.3071.125 Mobile Safari/537.36\""
   ]
  },
  {
   "cell_type": "code",
   "execution_count": 23,
   "metadata": {},
   "outputs": [],
   "source": [
    "query = \"j. cole\"\n",
    "query = query.replace(' ', '+')\n",
    "URL = f\"https://google.com/search?q={query}\""
   ]
  },
  {
   "cell_type": "code",
   "execution_count": 24,
   "metadata": {},
   "outputs": [],
   "source": [
    "headers = {\"user-agent\": USER_AGENT}\n",
    "resp = requests.get(URL, headers=headers)"
   ]
  },
  {
   "cell_type": "code",
   "execution_count": 20,
   "metadata": {},
   "outputs": [
    {
     "output_type": "stream",
     "name": "stdout",
     "text": [
      "                                               title  \\\n0                                J. Cole - Wikipedia   \n1  Cole (@realcoleworld) • Instagram photos and v...   \n2                       J. Cole (@JColeNC) | Twitter   \n3                           J.Cole - Home | Facebook   \n4                               J. Cole — Dreamville   \n5         Dreamville Records — Cole World No Blanket   \n6                      J. Cole's stream - SoundCloud   \n7                                J. Cole | Billboard   \n\n                                       link  \n0     https://en.wikipedia.org/wiki/J._Cole  \n1  https://www.instagram.com/realcoleworld/  \n2       https://twitter.com/jcolenc?lang=en  \n3      https://www.facebook.com/JColeMusic/  \n4    http://www.dreamville.com/artist/cole/  \n5                http://www.dreamville.com/  \n6             https://soundcloud.com/j-cole  \n7    https://www.billboard.com/music/j-cole  \n"
     ]
    }
   ],
   "source": [
    "if resp.status_code == 200:\n",
    "    soup = BeautifulSoup(resp.content, \"html.parser\")\n",
    "    results = []\n",
    "    for g in soup.find_all('div', class_='g'):\n",
    "        # anchor div\n",
    "        rc = g.find('div', class_='rc')\n",
    "        # description div\n",
    "        s = g.find('div', class_='s')\n",
    "        if rc:\n",
    "            divs = rc.find_all('div', recursive=False)\n",
    "            if len(divs) >= 2:\n",
    "                anchor = divs[0].find('a')\n",
    "                link = anchor['href']\n",
    "                title = anchor.find('h3').text\n",
    "                item = {\n",
    "                    \"title\": title,\n",
    "                    \"link\": link\n",
    "                }\n",
    "                results.append(item)\n",
    "    df = pd.DataFrame(results)\n",
    "    print(df)"
   ]
  }
 ]
}