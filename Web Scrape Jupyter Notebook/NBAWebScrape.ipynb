{
 "metadata": {
  "language_info": {
   "codemirror_mode": {
    "name": "ipython",
    "version": 3
   },
   "file_extension": ".py",
   "mimetype": "text/x-python",
   "name": "python",
   "nbconvert_exporter": "python",
   "pygments_lexer": "ipython3",
   "version": "3.8.2-final"
  },
  "orig_nbformat": 2,
  "kernelspec": {
   "name": "python3",
   "display_name": "Python 3.8.2 64-bit",
   "metadata": {
    "interpreter": {
     "hash": "aee8b7b246df8f9039afb4144a1f6fd8d2ca17a180786b69acc140d282b71a49"
    }
   }
  }
 },
 "nbformat": 4,
 "nbformat_minor": 2,
 "cells": [
  {
   "cell_type": "code",
   "execution_count": 1,
   "metadata": {},
   "outputs": [],
   "source": [
    "from urllib.request import urlopen\n",
    "from bs4 import BeautifulSoup\n",
    "import pandas as pd"
   ]
  },
  {
   "cell_type": "code",
   "execution_count": 2,
   "metadata": {},
   "outputs": [],
   "source": [
    "# URL to scrape\n",
    "# The NBA champions from 1983 to 2020\n",
    "url = \"https://www.basketball-reference.com/playoffs/\""
   ]
  },
  {
   "cell_type": "code",
   "execution_count": 3,
   "metadata": {},
   "outputs": [],
   "source": [
    "# collect HTML data\n",
    "html = urlopen(url)\n",
    "\n",
    "# Create beautiful soup object\n",
    "soup = BeautifulSoup(html, \"html.parser\")\n",
    "\n",
    "# getText()to extract the headers into a list\n",
    "headers = [th.getText() for th in soup.findAll('tr', limit=2)[1].findAll('th')]"
   ]
  },
  {
   "cell_type": "code",
   "execution_count": 4,
   "metadata": {},
   "outputs": [],
   "source": [
    "# Get all the rows from table\n",
    "rows = soup.findAll('tr')[2:]\n",
    "rows_data = [[td.getText() for td in rows[i].findAll('td')]\n",
    "                    for i in range(len(rows))]"
   ]
  },
  {
   "cell_type": "code",
   "execution_count": 5,
   "metadata": {},
   "outputs": [],
   "source": [
    "# Remove the empty row\n",
    "rows_data.pop(20)\n",
    "rows_data = rows_data[0:38]"
   ]
  },
  {
   "cell_type": "code",
   "execution_count": 6,
   "metadata": {},
   "outputs": [],
   "source": [
    "# Add the years into rows_data\n",
    "last_year = 2020\n",
    "for i in range(0, len(rows_data)):\n",
    "    rows_data[i].insert(0, last_year)\n",
    "    last_year -=1"
   ]
  },
  {
   "cell_type": "code",
   "execution_count": 7,
   "metadata": {},
   "outputs": [],
   "source": [
    "# Create the dataframe\n",
    "nba_finals = pd.DataFrame(rows_data, columns = headers)\n",
    "# Export dataframe to a CSV file\n",
    "nba_finals.to_csv(\"NBAFinalsChampions.csv\", index=False)"
   ]
  },
  {
   "cell_type": "code",
   "execution_count": null,
   "metadata": {},
   "outputs": [],
   "source": []
  }
 ]
}