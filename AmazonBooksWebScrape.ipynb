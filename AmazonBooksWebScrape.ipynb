{
 "metadata": {
  "language_info": {
   "codemirror_mode": {
    "name": "ipython",
    "version": 3
   },
   "file_extension": ".py",
   "mimetype": "text/x-python",
   "name": "python",
   "nbconvert_exporter": "python",
   "pygments_lexer": "ipython3",
   "version": "3.8.2-final"
  },
  "orig_nbformat": 2,
  "kernelspec": {
   "name": "python3",
   "display_name": "Python 3.8.2 64-bit",
   "metadata": {
    "interpreter": {
     "hash": "aee8b7b246df8f9039afb4144a1f6fd8d2ca17a180786b69acc140d282b71a49"
    }
   }
  }
 },
 "nbformat": 4,
 "nbformat_minor": 2,
 "cells": [
  {
   "cell_type": "code",
   "execution_count": 1,
   "metadata": {},
   "outputs": [],
   "source": [
    "import pandas as pd\n",
    "from bs4 import BeautifulSoup\n",
    "import requests"
   ]
  },
  {
   "cell_type": "code",
   "execution_count": 2,
   "metadata": {},
   "outputs": [],
   "source": [
    "no_pages = 2  # There are total 2 pages of the bestseller books (That's 100 books)"
   ]
  },
  {
   "cell_type": "code",
   "execution_count": 3,
   "metadata": {},
   "outputs": [],
   "source": [
    "def get_data(pageNo):\n",
    "    headers = {\"User-Agent\":\"Mozilla/5.0 (Windows NT 10.0; Win64; x64; rv:66.0) Gecko/20100101 Firefox/66.0\", \"Accept-Encoding\":\"gzip, deflate\", \"Accept\":\"text/html,application/xhtml+xml,application/xml;q=0.9,*/*;q=0.8\", \"DNT\":\"1\",\"Connection\":\"close\", \"Upgrade-Insecure-Requests\":\"1\"}\n",
    "\n",
    "    r = requests.get('https://www.amazon.com/best-sellers-books-Amazon/zgbs/books/ref=zg_bs_pg_'+str(pageNo)+'?_encoding=UTF8&pg='+str(pageNo), headers=headers)#, proxies=proxies)\n",
    "    content = r.content\n",
    "    soup = BeautifulSoup(content, \"html.parser\")\n",
    "\n",
    "    alls = []\n",
    "    for d in soup.findAll('div', attrs={'class':'a-section a-spacing-none aok-relative'}):\n",
    "        name = d.find('span', attrs={'class':'zg-text-center-align'})  # Name of the book\n",
    "        n = name.find_all('img', alt=True)   # Image of the book\n",
    "        author = d.find('a', attrs={'class':'a-size-small a-link-child'})  # Name of the author of the book\n",
    "        rating = d.find('span', attrs={'class':'a-icon-alt'})  # Rating of the book\n",
    "        users_rated = d.find('a', attrs={'class':'a-size-small a-link-normal'})  # Number of customers that rated the book\n",
    "        price = d.find('span', attrs={'class':'p13n-sc-price'})  # Price of the book\n",
    "        all1 = []\n",
    "\n",
    "        if name is not None:\n",
    "            all1.append(n[0]['alt'])\n",
    "        else:\n",
    "            all1.append(\"unknown-product\")\n",
    "\n",
    "        if author is not None:\n",
    "            all1.append(author.text)\n",
    "        elif author is None:\n",
    "            author = d.find('span', attrs={'class':'a-size-small a-color-base'})\n",
    "            if author is not None:\n",
    "                all1.append(author.text)\n",
    "            else:\n",
    "                all1.append('0')\n",
    "\n",
    "        if rating is not None:\n",
    "            all1.append(rating.text)\n",
    "        else:\n",
    "            all1.append('-1')\n",
    "\n",
    "        if users_rated is not None:\n",
    "            all1.append(users_rated.text)\n",
    "        else:\n",
    "            all1.append('0')\n",
    "\n",
    "        if price is not None:\n",
    "            all1.append(price.text)\n",
    "        else:\n",
    "            all1.append('0')\n",
    "        alls.append(all1)\n",
    "    return alls\n"
   ]
  },
  {
   "cell_type": "code",
   "execution_count": 4,
   "metadata": {},
   "outputs": [],
   "source": [
    "results = []\n",
    "\n",
    "for i in range(1, no_pages+1):\n",
    "    results.append(get_data(i))"
   ]
  },
  {
   "cell_type": "code",
   "execution_count": 5,
   "metadata": {},
   "outputs": [
    {
     "output_type": "stream",
     "name": "stdout",
     "text": [
      "Shape of the data:  (100, 5)\n\nFirst 5 rows of the scraped data:\n                                           Book Name               Author  \\\n0                                    A Promised Land         Barack Obama   \n1  Atomic Habits: An Easy & Proven Way to Build G...          James Clear   \n2  Quit Like a Woman: The Radical Choice to Not D...       Holly Whitaker   \n3                                            Untamed        Glennon Doyle   \n4                                        Greenlights  Matthew McConaughey   \n\n               Rating Customers_Rated   Price  \n0  4.9 out of 5 stars          36,481  $21.75  \n1  4.8 out of 5 stars          21,927  $11.98  \n2  4.5 out of 5 stars             919  $17.99  \n3  4.6 out of 5 stars          32,955  $11.12  \n4  4.7 out of 5 stars          13,620  $18.00  \n"
     ]
    }
   ],
   "source": [
    "flatten = lambda l: [item for sublist in l for item in sublist]\n",
    "df = pd.DataFrame(flatten(results),columns=['Book Name','Author','Rating','Customers_Rated', 'Price'])\n",
    "df.to_csv('amazonbooks.csv', index=False, encoding='utf-8')  # Saving the data to a CSV file\n",
    "print(\"Shape of the data: \",df.shape)\n",
    "print(\"\\nFirst 5 rows of the scraped data:\")\n",
    "print(df.head(5))"
   ]
  },
  {
   "cell_type": "code",
   "execution_count": null,
   "metadata": {},
   "outputs": [],
   "source": []
  }
 ]
}